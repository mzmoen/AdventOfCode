{
 "cells": [
  {
   "cell_type": "code",
   "execution_count": 2,
   "metadata": {
    "collapsed": true
   },
   "outputs": [],
   "source": [
    "import pandas as pd\n",
    "import numpy as np"
   ]
  },
  {
   "cell_type": "code",
   "execution_count": 29,
   "outputs": [
    {
     "name": "stdout",
     "output_type": "stream",
     "text": [
      "66616.0\n",
      "199172\n"
     ]
    }
   ],
   "source": [
    "df = pd.read_csv('01.txt', header=None, skip_blank_lines=False)\n",
    "calories = []\n",
    "temp_cal = 0\n",
    "\n",
    "for x in df.iterrows():\n",
    "    if (np.isnan(x[1].values[0])):\n",
    "        calories.append(temp_cal)\n",
    "        temp_cal = 0\n",
    "    else:\n",
    "        temp_cal += x[1].values[0]\n",
    "\n",
    "\n",
    "calories_sorted = np.sort(calories)\n",
    "\n",
    "#answer to 1\n",
    "print(calories_sorted[-1])\n",
    "\n",
    "#answer to 2\n",
    "print(int(np.sum(calories_sorted[-3:])))"
   ],
   "metadata": {
    "collapsed": false,
    "pycharm": {
     "name": "#%%\n"
    }
   }
  }
 ],
 "metadata": {
  "kernelspec": {
   "display_name": "Python 3",
   "language": "python",
   "name": "python3"
  },
  "language_info": {
   "codemirror_mode": {
    "name": "ipython",
    "version": 2
   },
   "file_extension": ".py",
   "mimetype": "text/x-python",
   "name": "python",
   "nbconvert_exporter": "python",
   "pygments_lexer": "ipython2",
   "version": "2.7.6"
  }
 },
 "nbformat": 4,
 "nbformat_minor": 0
}