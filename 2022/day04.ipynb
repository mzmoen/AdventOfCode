{
 "cells": [
  {
   "cell_type": "code",
   "execution_count": 29,
   "metadata": {
    "collapsed": true
   },
   "outputs": [],
   "source": [
    "import warnings\n",
    "warnings.filterwarnings('ignore')\n",
    "\n",
    "import copy\n",
    "\n",
    "import pandas as pd\n",
    "import numpy as np"
   ]
  },
  {
   "cell_type": "code",
   "execution_count": 31,
   "outputs": [
    {
     "name": "stdout",
     "output_type": "stream",
     "text": [
      "738\n"
     ]
    }
   ],
   "source": [
    "# Part 1\n",
    "df = pd.read_csv('day04.txt', header=None, delimiter='-|,')\n",
    "df2 = copy.deepcopy(df)\n",
    "\n",
    "df = df[df[0] >= df[2]]\n",
    "df = df[df[1] <= df[3]]\n",
    "\n",
    "df2 = df2[df2[0] <= df2[2]]\n",
    "df2 = df2[df2[1] >= df2[3]]\n",
    "\n",
    "dupe_count = set(df.index) & set(df2.index)\n",
    "\n",
    "print(len(df) + len(df2) - len(dupe_count))"
   ],
   "metadata": {
    "collapsed": false,
    "pycharm": {
     "name": "#%%\n"
    }
   }
  },
  {
   "cell_type": "code",
   "execution_count": 44,
   "outputs": [
    {
     "name": "stdout",
     "output_type": "stream",
     "text": [
      "845\n",
      "2010\n"
     ]
    }
   ],
   "source": [
    "# Part 2\n",
    "df = pd.read_csv('day04.txt', header=None, delimiter='-|,')\n",
    "df2 = copy.deepcopy(df)\n",
    "df3 = copy.deepcopy(df)\n",
    "df4 = copy.deepcopy(df)\n",
    "\n",
    "df = df[df[0] >= df[2]]\n",
    "df = df[df[0] <= df[3]]\n",
    "\n",
    "df2 = df2[df2[1] >= df2[2]]\n",
    "df2 = df2[df2[1] <= df2[3]]\n",
    "\n",
    "df3 = df3[df3[2] >= df3[0]]\n",
    "df3 = df3[df3[2] <= df3[1]]\n",
    "\n",
    "df4 = df4[df4[3] >= df4[0]]\n",
    "df4 = df4[df4[3] <= df4[1]]\n",
    "\n",
    "indexed = df.index.append(df2.index).append(df3.index).append(df4.index).drop_duplicates()\n",
    "\n",
    "print(len(indexed))"
   ],
   "metadata": {
    "collapsed": false,
    "pycharm": {
     "name": "#%%\n"
    }
   }
  }
 ],
 "metadata": {
  "kernelspec": {
   "display_name": "Python 3",
   "language": "python",
   "name": "python3"
  },
  "language_info": {
   "codemirror_mode": {
    "name": "ipython",
    "version": 2
   },
   "file_extension": ".py",
   "mimetype": "text/x-python",
   "name": "python",
   "nbconvert_exporter": "python",
   "pygments_lexer": "ipython2",
   "version": "2.7.6"
  }
 },
 "nbformat": 4,
 "nbformat_minor": 0
}