{
 "cells": [
  {
   "cell_type": "code",
   "execution_count": 2,
   "metadata": {
    "collapsed": true
   },
   "outputs": [],
   "source": [
    "import pandas as pd\n",
    "import numpy as np"
   ]
  },
  {
   "cell_type": "code",
   "execution_count": 55,
   "outputs": [
    {
     "name": "stdout",
     "output_type": "stream",
     "text": [
      "8890\n"
     ]
    }
   ],
   "source": [
    "df = pd.read_csv('03_2022.txt', delim_whitespace=True, header=None)\n",
    "\n",
    "shape = {'X': 1, 'Y': 2, 'Z': 3, 'A': 1, 'B': 2, 'C': 3}\n",
    "score = 0\n",
    "\n",
    "for row in df.iterrows():\n",
    "    if shape[row[1][0]] == shape[row[1][1]]:\n",
    "        score += 3 + shape[row[1][1]]\n",
    "    elif shape[row[1][1]] - shape[row[1][0]] in (1, -2):\n",
    "        score += 6 + shape[row[1][1]]\n",
    "    else:\n",
    "        score += shape[row[1][1]]\n",
    "\n",
    "print(score)"
   ],
   "metadata": {
    "collapsed": false,
    "pycharm": {
     "name": "#%%\n"
    }
   }
  },
  {
   "cell_type": "code",
   "execution_count": 56,
   "outputs": [
    {
     "name": "stdout",
     "output_type": "stream",
     "text": [
      "10238\n"
     ]
    }
   ],
   "source": [
    "df = pd.read_csv('03_2022.txt', delim_whitespace=True, header=None)\n",
    "\n",
    "shape = {'X': 1, 'Y': 2, 'Z': 3, 'A': 1, 'B': 2, 'C': 3}\n",
    "score = 0\n",
    "\n",
    "for row in df.iterrows():\n",
    "    if row[1][1] == 'Y':\n",
    "        score += 3 + shape[row[1][0]]\n",
    "    elif row[1][1] == 'Z':\n",
    "        number = shape[row[1][0]]\n",
    "        score += 6 + (number % 3) + 1\n",
    "    else:\n",
    "        number = shape[row[1][0]]\n",
    "        score += ((number + 1) % 3) + 1\n",
    "\n",
    "    # print(row[1][0], row[1][1], score)\n",
    "\n",
    "print(score)"
   ],
   "metadata": {
    "collapsed": false,
    "pycharm": {
     "name": "#%%\n"
    }
   }
  }
 ],
 "metadata": {
  "kernelspec": {
   "display_name": "Python 3",
   "language": "python",
   "name": "python3"
  },
  "language_info": {
   "codemirror_mode": {
    "name": "ipython",
    "version": 2
   },
   "file_extension": ".py",
   "mimetype": "text/x-python",
   "name": "python",
   "nbconvert_exporter": "python",
   "pygments_lexer": "ipython2",
   "version": "2.7.6"
  }
 },
 "nbformat": 4,
 "nbformat_minor": 0
}