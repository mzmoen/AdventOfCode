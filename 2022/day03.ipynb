{
 "cells": [
  {
   "cell_type": "code",
   "execution_count": 1,
   "metadata": {
    "collapsed": true
   },
   "outputs": [],
   "source": [
    "import pandas as pd"
   ]
  },
  {
   "cell_type": "code",
   "execution_count": 32,
   "outputs": [
    {
     "name": "stdout",
     "output_type": "stream",
     "text": [
      "7889\n"
     ]
    }
   ],
   "source": [
    "upper_subtract = 38\n",
    "lower_subtract = 96\n",
    "score = 0\n",
    "\n",
    "df = pd.read_csv('day03.txt', header=None)\n",
    "\n",
    "for row in df.iterrows():\n",
    "    row_string = str(row[1][0])\n",
    "    first, second = row_string[:len(row_string)//2], row_string[len(row_string)//2:]\n",
    "    overlap = set(first)&set(second)\n",
    "    for x in overlap:\n",
    "        if ord(x) > 92:\n",
    "            score += ord(x) - lower_subtract\n",
    "        else:\n",
    "            score += ord(x) - upper_subtract\n",
    "\n",
    "print(score)\n",
    "\n"
   ],
   "metadata": {
    "collapsed": false,
    "pycharm": {
     "name": "#%%\n"
    }
   }
  }
 ],
 "metadata": {
  "kernelspec": {
   "display_name": "Python 3",
   "language": "python",
   "name": "python3"
  },
  "language_info": {
   "codemirror_mode": {
    "name": "ipython",
    "version": 2
   },
   "file_extension": ".py",
   "mimetype": "text/x-python",
   "name": "python",
   "nbconvert_exporter": "python",
   "pygments_lexer": "ipython2",
   "version": "2.7.6"
  }
 },
 "nbformat": 4,
 "nbformat_minor": 0
}