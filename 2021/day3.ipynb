{
 "cells": [
  {
   "cell_type": "code",
   "execution_count": 58,
   "metadata": {
    "collapsed": true
   },
   "outputs": [],
   "source": [
    "import copy\n",
    "\n",
    "import pandas as pd\n",
    "import numpy as np\n",
    "import copy"
   ]
  },
  {
   "cell_type": "code",
   "execution_count": 56,
   "outputs": [
    {
     "name": "stdout",
     "output_type": "stream",
     "text": [
      "                0\n",
      "0    101011111001\n",
      "1    100100110111\n",
      "2    101010101011\n",
      "3    010100010000\n",
      "4    001101101101\n",
      "..            ...\n",
      "995  010000001011\n",
      "996  100000010011\n",
      "997  010111010111\n",
      "998  101111100010\n",
      "999  010100010011\n",
      "\n",
      "[1000 rows x 1 columns]\n",
      "3320834\n"
     ]
    }
   ],
   "source": [
    "df = pd.read_csv('day3.txt', header=None, converters={0: str})\n",
    "print(df)\n",
    "\n",
    "count = np.zeros(len(str(df[0][0])))\n",
    "gamma = ''\n",
    "epsilon = ''\n",
    "rows = float(len(df))\n",
    "\n",
    "for x in df.iterrows():\n",
    "    binary_split = [*str(x[1][0])]\n",
    "    for idx, bit in enumerate(binary_split):\n",
    "        count[idx] += int(bit)\n",
    "    # print(count)\n",
    "\n",
    "# print(count)\n",
    "\n",
    "for total in count:\n",
    "    # print(total/rows, float(rows)/2)\n",
    "    if total > rows/2:\n",
    "        gamma += '1'\n",
    "        epsilon += '0'\n",
    "    else:\n",
    "        gamma += '0'\n",
    "        epsilon += '1'\n",
    "\n",
    "gamma_int = int(gamma, 2)\n",
    "epsilon_int = int(epsilon, 2)\n",
    "\n",
    "print(gamma_int * epsilon_int)"
   ],
   "metadata": {
    "collapsed": false,
    "pycharm": {
     "name": "#%%\n"
    }
   }
  },
  {
   "cell_type": "code",
   "execution_count": 78,
   "outputs": [
    {
     "name": "stdout",
     "output_type": "stream",
     "text": [
      "2799\n",
      "1601\n",
      "4481199\n"
     ]
    }
   ],
   "source": [
    "df = pd.read_csv('day3.txt', header=None, converters={0: str})\n",
    "\n",
    "oxygen = ''\n",
    "co2 = ''\n",
    "binary_list = []\n",
    "\n",
    "for x in df.iterrows():\n",
    "    binary_split = [*str(x[1][0])]\n",
    "    binary_list.append(binary_split)\n",
    "\n",
    "clean_df = pd.DataFrame(binary_list).astype(int)\n",
    "# print(clean_df)\n",
    "\n",
    "def rating_return(clean_df, ox_binary):\n",
    "    for x in clean_df.columns.values:\n",
    "        rows = float(len(clean_df))\n",
    "        total = clean_df[x].sum()\n",
    "        if total >= (rows/2):\n",
    "            if ox_binary:\n",
    "                clean_df = clean_df[clean_df[x] == 1]\n",
    "            else:\n",
    "                clean_df = clean_df[clean_df[x] == 0]\n",
    "        else:\n",
    "            if ox_binary:\n",
    "                clean_df = clean_df[clean_df[x] == 0]\n",
    "            else:\n",
    "                clean_df = clean_df[clean_df[x] == 1]\n",
    "        if float(len(clean_df)) == 1:\n",
    "            array = clean_df.astype(str).apply(''.join, axis=1).values\n",
    "            return int(array[0], 2)\n",
    "\n",
    "oxygen = rating_return(clean_df, True)\n",
    "co2 = rating_return(clean_df, False)\n",
    "print(oxygen)\n",
    "print(co2)\n",
    "print(oxygen * co2)\n",
    "\n",
    "\n"
   ],
   "metadata": {
    "collapsed": false,
    "pycharm": {
     "name": "#%%\n"
    }
   }
  }
 ],
 "metadata": {
  "kernelspec": {
   "display_name": "Python 3",
   "language": "python",
   "name": "python3"
  },
  "language_info": {
   "codemirror_mode": {
    "name": "ipython",
    "version": 2
   },
   "file_extension": ".py",
   "mimetype": "text/x-python",
   "name": "python",
   "nbconvert_exporter": "python",
   "pygments_lexer": "ipython2",
   "version": "2.7.6"
  }
 },
 "nbformat": 4,
 "nbformat_minor": 0
}